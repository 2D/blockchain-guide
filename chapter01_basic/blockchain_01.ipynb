{
 "cells": [
  {
   "cell_type": "markdown",
   "metadata": {},
   "source": [
    "# Learning by Doing\n",
    "\n",
    "* this is a A Step-by-Step Guide For Beginners into practical building of blockchain.\n",
    "* using explanation and [this code](https://github.com/snaga/blockchain) that was published in [ブロックチェ－ンを構築しながら学ぶ | プログラミング | POSTD](http://postd.cc/learn-blockchains-by-building-one/) \n",
    "* This branch using also Jupyter interface to explain blockchain.\n",
    "* To understand the mechanism of the BC, some theorethical backgroung of cryptography is required."
   ]
  },
  {
   "cell_type": "markdown",
   "metadata": {},
   "source": [
    "## Implementation\n",
    "### Creating a Blockchain Class"
   ]
  },
  {
   "cell_type": "code",
   "execution_count": 2,
   "metadata": {},
   "outputs": [],
   "source": [
    "from time import time\n",
    "import hashlib\n",
    "import json"
   ]
  },
  {
   "cell_type": "code",
   "execution_count": 3,
   "metadata": {},
   "outputs": [],
   "source": [
    "\n",
    "class Blockchain(object):\n",
    "    def __init__(self):\n",
    "        self.current_transactions = []\n",
    "        self.chain = []\n",
    "\n",
    "        # Create the genesis block\n",
    "        self.new_block(previous_hash=1, proof=100)\n",
    "\n",
    "    def new_block(self, proof, previous_hash=None):\n",
    "        \"\"\"\n",
    "        Create a new Block in the Blockchain\n",
    "        :param proof: <int> The proof given by the Proof of Work algorithm\n",
    "        :param previous_hash: (Optional) <str> Hash of previous Block\n",
    "        :return: <dict> New Block\n",
    "        \"\"\"\n",
    "        block = {\n",
    "            'index': len(self.chain) + 1,\n",
    "            'timestamp': time(),\n",
    "            'transactions': self.current_transactions,\n",
    "            'proof': proof,\n",
    "            'previous_hash': previous_hash or self.hash(self.chain[-1]),\n",
    "        }\n",
    "\n",
    "        # Reset the current list of transactions\n",
    "        self.current_transactions = []\n",
    "\n",
    "        self.chain.append(block)\n",
    "        return block\n",
    "\n",
    "    def new_transaction(self, sender, recipient, amount):\n",
    "        \"\"\"\n",
    "        Creates a new transaction to go into the next mined Block\n",
    "        :param sender: <str> Address of the Sender\n",
    "        :param recipient: <str> Address of the Recipient\n",
    "        :param amount: <int> Amount\n",
    "        :return: <int> The index of the Block that will hold this transaction\n",
    "        \"\"\"\n",
    "        self.current_transactions.append({\n",
    "            'sender': sender,\n",
    "            'recipient': recipient,\n",
    "            'amount': amount,\n",
    "        })\n",
    "        return self.last_block['index'] + 1\n",
    "\n",
    "    @staticmethod\n",
    "    def hash(block):\n",
    "        \"\"\"\n",
    "        Creates a SHA-256 hash of a Block\n",
    "        :param block: <dict> Block\n",
    "        :return: <str>\n",
    "        \"\"\"\n",
    "        # We must make sure that the Dictionary is Ordered, or we'll have inconsistent hashes\n",
    "        block_string = json.dumps(block, sort_keys=True).encode()\n",
    "        return hashlib.sha256(block_string).hexdigest()\n",
    "\n",
    "    @property\n",
    "    def last_block(self):\n",
    "        return self.chain[-1]\n",
    "\n",
    "    def proof_of_work(self, last_proof):\n",
    "        \"\"\"\n",
    "        Simple Proof of Work Algorithm:\n",
    "         - Find a number p' such that hash(pp') contains leading 4 zeroes, where p is the previous p'\n",
    "         - p is the previous proof, and p' is the new proof\n",
    "        :param last_proof: <int>\n",
    "        :return: <int>\n",
    "        \"\"\"\n",
    "        proof = 0\n",
    "        while self.valid_proof(last_proof, proof) is False:\n",
    "            proof += 1\n",
    "        return proof\n",
    "\n",
    "    @staticmethod\n",
    "    def valid_proof(last_proof, proof):\n",
    "        \"\"\"\n",
    "        Validates the Proof: Does hash(last_proof, proof) contain 4 leading zeroes?\n",
    "        :param last_proof: <int> Previous Proof\n",
    "        :param proof: <int> Current Proof\n",
    "        :return: <bool> True if correct, False if not.\n",
    "        \"\"\"\n",
    "        guess = ('%d%d' % (last_proof, proof)).encode()\n",
    "        guess_hash = hashlib.sha256(guess).hexdigest()\n",
    "        return guess_hash[:4] == \"0000\"\n"
   ]
  },
  {
   "cell_type": "markdown",
   "metadata": {},
   "source": [
    "### Adding a Mining Process"
   ]
  },
  {
   "cell_type": "code",
   "execution_count": 4,
   "metadata": {},
   "outputs": [],
   "source": [
    "from uuid import uuid4\n",
    "\n",
    "node_identifier = str(uuid4()).replace('-', '')\n",
    "\n",
    "def mine(blockchain):\n",
    "    global node_identifier\n",
    "    \n",
    "    # We run the proof of work algorithm to get the next proof...\n",
    "    last_block = blockchain.last_block\n",
    "    last_proof = last_block['proof']\n",
    "    proof = blockchain.proof_of_work(last_proof)\n",
    "\n",
    "    # We must receive a reward for finding the proof.\n",
    "    # The sender is \"0\" to signify that this node has mined a new coin.\n",
    "    blockchain.new_transaction(\n",
    "        sender=\"0\",\n",
    "        recipient=node_identifier,\n",
    "        amount=1,\n",
    "    )\n",
    "\n",
    "    # Forge the new Block by adding it to the chain\n",
    "    previous_hash = blockchain.hash(last_block)\n",
    "    block = blockchain.new_block(proof, previous_hash)\n",
    "\n",
    "    response = {\n",
    "        'message': \"New Block Forged\",\n",
    "        'index': block['index'],\n",
    "        'transactions': block['transactions'],\n",
    "        'proof': block['proof'],\n",
    "        'previous_hash': block['previous_hash'],\n",
    "    }\n",
    "    return response"
   ]
  },
  {
   "cell_type": "markdown",
   "metadata": {},
   "source": [
    "### Geting the whole chain"
   ]
  },
  {
   "cell_type": "code",
   "execution_count": 5,
   "metadata": {},
   "outputs": [],
   "source": [
    "def full_chain(blockchain):\n",
    "    response = {\n",
    "        'chain': blockchain.chain,\n",
    "        'length': len(blockchain.chain),\n",
    "    }\n",
    "    return response"
   ]
  },
  {
   "cell_type": "markdown",
   "metadata": {},
   "source": [
    "# moving blockchain\n",
    "\n",
    "Use pprint to make the display easier to see."
   ]
  },
  {
   "cell_type": "code",
   "execution_count": 6,
   "metadata": {},
   "outputs": [],
   "source": [
    "import pprint\n",
    "pp = pprint.PrettyPrinter(indent=2)"
   ]
  },
  {
   "cell_type": "markdown",
   "metadata": {},
   "source": [
    "Identifier indicating its own node is as follows."
   ]
  },
  {
   "cell_type": "code",
   "execution_count": 7,
   "metadata": {},
   "outputs": [
    {
     "data": {
      "text/plain": [
       "'d9970bd3cc594dee99c11f1baecbdaf9'"
      ]
     },
     "execution_count": 7,
     "metadata": {},
     "output_type": "execute_result"
    }
   ],
   "source": [
    "node_identifier"
   ]
  },
  {
   "cell_type": "markdown",
   "metadata": {},
   "source": [
    "Once instantiated, the first block is created.\n",
    "\n",
    "The first block is:\n",
    "* Index 1\n",
    "* No previous hash (1)\n",
    "* The length of the chain naturally \"1\""
   ]
  },
  {
   "cell_type": "code",
   "execution_count": 8,
   "metadata": {},
   "outputs": [
    {
     "name": "stdout",
     "output_type": "stream",
     "text": [
      "{ 'chain': [ { 'index': 1,\n",
      "               'previous_hash': 1,\n",
      "               'proof': 100,\n",
      "               'timestamp': 1549965508.7086954,\n",
      "               'transactions': []}],\n",
      "  'length': 1}\n"
     ]
    }
   ],
   "source": [
    "b = Blockchain()\n",
    "pp.pprint(full_chain(b))"
   ]
  },
  {
   "cell_type": "markdown",
   "metadata": {},
   "source": [
    "## mining of one block"
   ]
  },
  {
   "cell_type": "code",
   "execution_count": 9,
   "metadata": {},
   "outputs": [
    {
     "name": "stdout",
     "output_type": "stream",
     "text": [
      "{ 'index': 2,\n",
      "  'message': 'New Block Forged',\n",
      "  'previous_hash': 'bcd0be7401c4c516a9844c467c3c710e96039dd99985a4de454f2f9235e98485',\n",
      "  'proof': 35293,\n",
      "  'transactions': [ { 'amount': 1,\n",
      "                      'recipient': 'd9970bd3cc594dee99c11f1baecbdaf9',\n",
      "                      'sender': '0'}]}\n"
     ]
    }
   ],
   "source": [
    "newblock = mine(b)\n",
    "pp.pprint(newblock)"
   ]
  },
  {
   "cell_type": "markdown",
   "metadata": {},
   "source": [
    "transactions, Only the transaction of mining is described.\n",
    "\n",
    "Mining transactions:\n",
    "\n",
    "* If sender is 0\n",
    "* recipient is the identifier of its own node\n",
    "* amount is 1\n",
    "\n",
    "Transactions are recorded as transactions."
   ]
  },
  {
   "cell_type": "markdown",
   "metadata": {},
   "source": [
    "Look at the contents of the whole block chain at this time。"
   ]
  },
  {
   "cell_type": "code",
   "execution_count": 10,
   "metadata": {},
   "outputs": [
    {
     "name": "stdout",
     "output_type": "stream",
     "text": [
      "{ 'chain': [ { 'index': 1,\n",
      "               'previous_hash': 1,\n",
      "               'proof': 100,\n",
      "               'timestamp': 1549965508.7086954,\n",
      "               'transactions': []},\n",
      "             { 'index': 2,\n",
      "               'previous_hash': 'bcd0be7401c4c516a9844c467c3c710e96039dd99985a4de454f2f9235e98485',\n",
      "               'proof': 35293,\n",
      "               'timestamp': 1549965541.6423428,\n",
      "               'transactions': [ { 'amount': 1,\n",
      "                                   'recipient': 'd9970bd3cc594dee99c11f1baecbdaf9',\n",
      "                                   'sender': '0'}]}],\n",
      "  'length': 2}\n"
     ]
    }
   ],
   "source": [
    "pp.pprint(full_chain(b))"
   ]
  },
  {
   "cell_type": "markdown",
   "metadata": {},
   "source": [
    "As a new transaction (transaction), there are blocks containing only mining results."
   ]
  },
  {
   "cell_type": "markdown",
   "metadata": {},
   "source": [
    "Let's add a new transaction here.\n",
    "\n",
    "* Sender as 'foo'\n",
    "* Set recipient to 'bar'\n",
    "* amount 10\n",
    "\n",
    "Transactions."
   ]
  },
  {
   "cell_type": "code",
   "execution_count": 12,
   "metadata": {},
   "outputs": [],
   "source": [
    "index = b.new_transaction('foo', 'bar', 10)"
   ]
  },
  {
   "cell_type": "markdown",
   "metadata": {},
   "source": [
    "At this time (index of block) is 3. The above transaction is stored in this block."
   ]
  },
  {
   "cell_type": "code",
   "execution_count": 13,
   "metadata": {},
   "outputs": [
    {
     "name": "stdout",
     "output_type": "stream",
     "text": [
      "3\n"
     ]
    }
   ],
   "source": [
    "print(index)"
   ]
  },
  {
   "cell_type": "markdown",
   "metadata": {},
   "source": [
    "At this time, looking at the chain as a whole, the transaction added above is not yet registered in the chain."
   ]
  },
  {
   "cell_type": "code",
   "execution_count": 14,
   "metadata": {
    "scrolled": true
   },
   "outputs": [
    {
     "name": "stdout",
     "output_type": "stream",
     "text": [
      "{ 'chain': [ { 'index': 1,\n",
      "               'previous_hash': 1,\n",
      "               'proof': 100,\n",
      "               'timestamp': 1549965508.7086954,\n",
      "               'transactions': []},\n",
      "             { 'index': 2,\n",
      "               'previous_hash': 'bcd0be7401c4c516a9844c467c3c710e96039dd99985a4de454f2f9235e98485',\n",
      "               'proof': 35293,\n",
      "               'timestamp': 1549965541.6423428,\n",
      "               'transactions': [ { 'amount': 1,\n",
      "                                   'recipient': 'd9970bd3cc594dee99c11f1baecbdaf9',\n",
      "                                   'sender': '0'}]}],\n",
      "  'length': 2}\n"
     ]
    }
   ],
   "source": [
    "pp.pprint(full_chain(b))"
   ]
  },
  {
   "cell_type": "markdown",
   "metadata": {},
   "source": [
    "Mine and add a new block."
   ]
  },
  {
   "cell_type": "code",
   "execution_count": 12,
   "metadata": {
    "collapsed": true
   },
   "outputs": [],
   "source": [
    "newblock = mine(b)"
   ]
  },
  {
   "cell_type": "markdown",
   "metadata": {},
   "source": [
    "The third block is created, and the information of the previously created transaction and the information of mining are saved."
   ]
  },
  {
   "cell_type": "code",
   "execution_count": 15,
   "metadata": {
    "scrolled": true
   },
   "outputs": [
    {
     "name": "stdout",
     "output_type": "stream",
     "text": [
      "{ 'index': 2,\n",
      "  'message': 'New Block Forged',\n",
      "  'previous_hash': 'bcd0be7401c4c516a9844c467c3c710e96039dd99985a4de454f2f9235e98485',\n",
      "  'proof': 35293,\n",
      "  'transactions': [ { 'amount': 1,\n",
      "                      'recipient': 'd9970bd3cc594dee99c11f1baecbdaf9',\n",
      "                      'sender': '0'}]}\n"
     ]
    }
   ],
   "source": [
    "pp.pprint(newblock)"
   ]
  },
  {
   "cell_type": "markdown",
   "metadata": {},
   "source": [
    "The state of the whole chain at this time is as follows."
   ]
  },
  {
   "cell_type": "code",
   "execution_count": 16,
   "metadata": {},
   "outputs": [
    {
     "name": "stdout",
     "output_type": "stream",
     "text": [
      "{ 'chain': [ { 'index': 1,\n",
      "               'previous_hash': 1,\n",
      "               'proof': 100,\n",
      "               'timestamp': 1549965508.7086954,\n",
      "               'transactions': []},\n",
      "             { 'index': 2,\n",
      "               'previous_hash': 'bcd0be7401c4c516a9844c467c3c710e96039dd99985a4de454f2f9235e98485',\n",
      "               'proof': 35293,\n",
      "               'timestamp': 1549965541.6423428,\n",
      "               'transactions': [ { 'amount': 1,\n",
      "                                   'recipient': 'd9970bd3cc594dee99c11f1baecbdaf9',\n",
      "                                   'sender': '0'}]}],\n",
      "  'length': 2}\n"
     ]
    }
   ],
   "source": [
    "pp.pprint(full_chain(b))"
   ]
  },
  {
   "cell_type": "markdown",
   "metadata": {},
   "source": [
    "## Decentralized 分散合意\n",
    "\n",
    "### Blockchain2 Implementing classes\n",
    "\n",
    "Implement Blockchain2 class incorporating consensus algorithm.\n",
    "\n",
    "\n",
    "At the same time, the node identifier was held as a class member, and when mining it was modified to use it. (In order to handle block chains of multiple nodes)\n",
    "\n",
    "(In fact it seems better to define the Node class and have the Blockchain 2 class as has - a as a member, but register_node () or resolve_conflicts () in the original version has been introduced to the Blockchain class, so follow it I will do."
   ]
  },
  {
   "cell_type": "code",
   "execution_count": 19,
   "metadata": {},
   "outputs": [],
   "source": [
    "import copy\n",
    "\n",
    "BlockchainNeighbours = {}\n",
    "\n",
    "class Blockchain2(Blockchain):\n",
    "    def __init__(self, node_identifier):\n",
    "        super().__init__()\n",
    "        self.nodes = set()\n",
    "        self.node_identifier = node_identifier\n",
    "        \n",
    "    def register_node(self, node_identifier):\n",
    "        \"\"\"\n",
    "        Add a new node to the list of nodes\n",
    "        :node_identifier: <str> Node identifier of the neighbour node.\n",
    "        :return: None\n",
    "        \"\"\"\n",
    "        self.nodes.add(node_identifier)\n",
    "\n",
    "    def valid_chain(self, chain):\n",
    "        \"\"\"\n",
    "        Determine if a given blockchain is valid\n",
    "        :param chain: <list> A blockchain\n",
    "        :return: <bool> True if valid, False if not\n",
    "        \"\"\"\n",
    "\n",
    "        last_block = chain[0]\n",
    "        current_index = 1\n",
    "\n",
    "        while current_index < len(chain):\n",
    "            block = chain[current_index]\n",
    "#            print(f'{last_block}')\n",
    "#            print(f'{block}')\n",
    "#            print(\"\\n-----------\\n\")\n",
    "            # Check that the hash of the block is correct\n",
    "            if block['previous_hash'] != self.hash(last_block):\n",
    "                return False\n",
    "\n",
    "            # Check that the Proof of Work is correct\n",
    "            if not self.valid_proof(last_block['proof'], block['proof']):\n",
    "                return False\n",
    "\n",
    "            last_block = block\n",
    "            current_index += 1\n",
    "\n",
    "        return True\n",
    "\n",
    "    def resolve_conflicts(self):\n",
    "        \"\"\"\n",
    "        This is our Consensus Algorithm, it resolves conflicts\n",
    "        by replacing our chain with the longest one in the network.\n",
    "        :return: <bool> True if our chain was replaced, False if not\n",
    "        \"\"\"\n",
    "        neighbours = self.nodes\n",
    "        new_chain = None\n",
    "\n",
    "        # We're only looking for chains longer than ours\n",
    "        max_length = len(self.chain)\n",
    "\n",
    "        # Grab and verify the chains from all the nodes in our network\n",
    "        for node in neighbours:\n",
    "            blockchain = BlockchainNeighbours[node]\n",
    "            print('node id: %s, len: %d' % (blockchain.node_identifier, len(blockchain.chain)))\n",
    "\n",
    "            # Check if the length is longer and the chain is valid\n",
    "            if len(blockchain.chain) > max_length and self.valid_chain(blockchain.chain):\n",
    "                max_length = len(blockchain.chain)\n",
    "                new_chain = blockchain\n",
    "\n",
    "        # Replace our chain if we discovered a new, valid chain longer than ours\n",
    "        if new_chain:\n",
    "            print(\"Replacing `%s' <- `%s'\" % (self.node_identifier, new_chain.node_identifier))\n",
    "            self.chain = copy.copy(new_chain.chain)\n",
    "            return True\n",
    "\n",
    "        return False"
   ]
  },
  {
   "cell_type": "code",
   "execution_count": 20,
   "metadata": {},
   "outputs": [],
   "source": [
    "def mine2(blockchain):\n",
    "    # We run the proof of work algorithm to get the next proof...\n",
    "    last_block = blockchain.last_block\n",
    "    last_proof = last_block['proof']\n",
    "    proof = blockchain.proof_of_work(last_proof)\n",
    "\n",
    "    # We must receive a reward for finding the proof.\n",
    "    # The sender is \"0\" to signify that this node has mined a new coin.\n",
    "    blockchain.new_transaction(\n",
    "        sender=\"0\",\n",
    "        recipient=blockchain.node_identifier,\n",
    "        amount=1,\n",
    "    )\n",
    "\n",
    "    # Forge the new Block by adding it to the chain\n",
    "    previous_hash = blockchain.hash(last_block)\n",
    "    block = blockchain.new_block(proof, previous_hash)\n",
    "\n",
    "    response = {\n",
    "        'message': \"New Block Forged\",\n",
    "        'index': block['index'],\n",
    "        'transactions': block['transactions'],\n",
    "        'proof': block['proof'],\n",
    "        'previous_hash': block['previous_hash'],\n",
    "    }\n",
    "    return response"
   ]
  },
  {
   "cell_type": "markdown",
   "metadata": {},
   "source": [
    "### Create multi-node Blockchain"
   ]
  },
  {
   "cell_type": "markdown",
   "metadata": {},
   "source": [
    "Create a blockchain for three nodes and register it as a neighboring node."
   ]
  },
  {
   "cell_type": "code",
   "execution_count": 21,
   "metadata": {},
   "outputs": [],
   "source": [
    "# Create block chains for three nodes with node identifiers 'foo', 'bar', 'buz'.\n",
    "foo = Blockchain2('foo')\n",
    "bar = Blockchain2('bar')\n",
    "buz = Blockchain2('buz')\n",
    "\n",
    "# Register in the list of neighboring nodes\n",
    "BlockchainNeighbours['foo'] = foo\n",
    "BlockchainNeighbours['bar'] = bar\n",
    "BlockchainNeighbours['buz'] = buz\n",
    "\n",
    "# 'bar', 'buz' registered as 'foo' node neighbor\n",
    "foo.register_node('bar')\n",
    "foo.register_node('buz')\n",
    "\n",
    "# Register neighbors for 'bar', 'buz' nodes\n",
    "bar.register_node('foo')\n",
    "bar.register_node('buz')\n",
    "\n",
    "buz.register_node('foo')\n",
    "buz.register_node('bar')"
   ]
  },
  {
   "cell_type": "markdown",
   "metadata": {},
   "source": [
    "In the initial state, the chain of all nodes has a length of 1."
   ]
  },
  {
   "cell_type": "code",
   "execution_count": 22,
   "metadata": {
    "scrolled": true
   },
   "outputs": [
    {
     "name": "stdout",
     "output_type": "stream",
     "text": [
      "foo: 1, bar: 1, buz: 1\n"
     ]
    }
   ],
   "source": [
    "print('foo: %d, bar: %d, buz: %d' %(len(foo.chain), len(bar.chain), len(buz.chain)))"
   ]
  },
  {
   "cell_type": "markdown",
   "metadata": {},
   "source": [
    "Even if you try to resolve the conflict in the initial state, there is no node with chain longer than the foo node, so the chain of foo node is not changed."
   ]
  },
  {
   "cell_type": "code",
   "execution_count": 23,
   "metadata": {},
   "outputs": [
    {
     "name": "stdout",
     "output_type": "stream",
     "text": [
      "node id: buz, len: 1\n",
      "node id: bar, len: 1\n"
     ]
    },
    {
     "data": {
      "text/plain": [
       "False"
      ]
     },
     "execution_count": 23,
     "metadata": {},
     "output_type": "execute_result"
    }
   ],
   "source": [
    "foo.resolve_conflicts()"
   ]
  },
  {
   "cell_type": "markdown",
   "metadata": {},
   "source": [
    "### Expansion of block in some nodes"
   ]
  },
  {
   "cell_type": "markdown",
   "metadata": {},
   "source": [
    "Next, mining on the bar node and adding one block."
   ]
  },
  {
   "cell_type": "code",
   "execution_count": 24,
   "metadata": {},
   "outputs": [
    {
     "name": "stdout",
     "output_type": "stream",
     "text": [
      "{ 'index': 2,\n",
      "  'message': 'New Block Forged',\n",
      "  'previous_hash': '8788b57301aba5522ac6c464ccb3118f854ea02d94ae79e59c150b9d2f70438a',\n",
      "  'proof': 35293,\n",
      "  'transactions': [{'amount': 1, 'recipient': 'bar', 'sender': '0'}]}\n"
     ]
    }
   ],
   "source": [
    "pp.pprint(mine2(bar))"
   ]
  },
  {
   "cell_type": "markdown",
   "metadata": {},
   "source": [
    "Then the length of the bar node is 2 only."
   ]
  },
  {
   "cell_type": "code",
   "execution_count": 25,
   "metadata": {
    "scrolled": true
   },
   "outputs": [
    {
     "name": "stdout",
     "output_type": "stream",
     "text": [
      "foo: 1, bar: 2, buz: 1\n"
     ]
    }
   ],
   "source": [
    "print('foo: %d, bar: %d, buz: %d' %(len(foo.chain), len(bar.chain), len(buz.chain)))"
   ]
  },
  {
   "cell_type": "code",
   "execution_count": 26,
   "metadata": {},
   "outputs": [
    {
     "name": "stdout",
     "output_type": "stream",
     "text": [
      "[ { 'index': 1,\n",
      "    'previous_hash': 1,\n",
      "    'proof': 100,\n",
      "    'timestamp': 1549968320.5750966,\n",
      "    'transactions': []}]\n"
     ]
    }
   ],
   "source": [
    "pp.pprint(foo.chain)"
   ]
  },
  {
   "cell_type": "code",
   "execution_count": 27,
   "metadata": {},
   "outputs": [
    {
     "name": "stdout",
     "output_type": "stream",
     "text": [
      "[ { 'index': 1,\n",
      "    'previous_hash': 1,\n",
      "    'proof': 100,\n",
      "    'timestamp': 1549968320.5750966,\n",
      "    'transactions': []},\n",
      "  { 'index': 2,\n",
      "    'previous_hash': '8788b57301aba5522ac6c464ccb3118f854ea02d94ae79e59c150b9d2f70438a',\n",
      "    'proof': 35293,\n",
      "    'timestamp': 1549968380.794671,\n",
      "    'transactions': [{'amount': 1, 'recipient': 'bar', 'sender': '0'}]}]\n"
     ]
    }
   ],
   "source": [
    "pp.pprint(bar.chain)"
   ]
  },
  {
   "cell_type": "code",
   "execution_count": 28,
   "metadata": {},
   "outputs": [
    {
     "name": "stdout",
     "output_type": "stream",
     "text": [
      "[ { 'index': 1,\n",
      "    'previous_hash': 1,\n",
      "    'proof': 100,\n",
      "    'timestamp': 1549968320.5750966,\n",
      "    'transactions': []}]\n"
     ]
    }
   ],
   "source": [
    "pp.pprint(buz.chain)"
   ]
  },
  {
   "cell_type": "markdown",
   "metadata": {},
   "source": [
    "### Eliminate conflicts between nodes"
   ]
  },
  {
   "cell_type": "markdown",
   "metadata": {},
   "source": [
    "In this state trying to resolve the conflict on the foo node, the chain of foo nodes is overwritten with a chain of (longer) bar nodes."
   ]
  },
  {
   "cell_type": "code",
   "execution_count": 29,
   "metadata": {},
   "outputs": [
    {
     "name": "stdout",
     "output_type": "stream",
     "text": [
      "node id: buz, len: 1\n",
      "node id: bar, len: 2\n",
      "Replacing `foo' <- `bar'\n"
     ]
    },
    {
     "data": {
      "text/plain": [
       "True"
      ]
     },
     "execution_count": 29,
     "metadata": {},
     "output_type": "execute_result"
    }
   ],
   "source": [
    "foo.resolve_conflicts()"
   ]
  },
  {
   "cell_type": "markdown",
   "metadata": {},
   "source": [
    "When the resolution of the conflict is completed, the chain length of the foo node becomes 2."
   ]
  },
  {
   "cell_type": "code",
   "execution_count": 31,
   "metadata": {},
   "outputs": [
    {
     "name": "stdout",
     "output_type": "stream",
     "text": [
      "foo: 2, bar: 2, buz: 1\n"
     ]
    }
   ],
   "source": [
    "print('foo: %d, bar: %d, buz: %d' %(len(foo.chain), len(bar.chain), len(buz.chain)))"
   ]
  },
  {
   "cell_type": "markdown",
   "metadata": {},
   "source": [
    "### When the content of the chain is different for each node"
   ]
  },
  {
   "cell_type": "markdown",
   "metadata": {},
   "source": [
    "Next, consider the case where the content of the chain differs for each node.\n",
    "\n",
    "Here we see the case where the contents of the foo node and the buz node are different."
   ]
  },
  {
   "cell_type": "code",
   "execution_count": 32,
   "metadata": {},
   "outputs": [
    {
     "name": "stdout",
     "output_type": "stream",
     "text": [
      "node id: foo, len: 2\n",
      "node id: bar, len: 2\n",
      "Replacing `buz' <- `foo'\n",
      "foo: 2, bar: 2, buz: 2\n"
     ]
    }
   ],
   "source": [
    "# buz Align the contents of nodes\n",
    "buz.resolve_conflicts()\n",
    "print('foo: %d, bar: %d, buz: %d' %(len(foo.chain), len(bar.chain), len(buz.chain)))"
   ]
  },
  {
   "cell_type": "markdown",
   "metadata": {},
   "source": [
    "Here, two blocks at foo node, one block at buz node, and blocks holding different transactions are added."
   ]
  },
  {
   "cell_type": "code",
   "execution_count": 33,
   "metadata": {},
   "outputs": [
    {
     "name": "stdout",
     "output_type": "stream",
     "text": [
      "foo: 4, bar: 2, buz: 3\n"
     ]
    }
   ],
   "source": [
    "foo.new_transaction('AAA', 'BBB', 123)\n",
    "mine2(foo)\n",
    "foo.new_transaction('CCC', 'DDD', 456)\n",
    "mine2(foo)\n",
    "\n",
    "buz.new_transaction('EEE', 'FFF', 789)\n",
    "mine2(buz)\n",
    "\n",
    "print('foo: %d, bar: %d, buz: %d' %(len(foo.chain), len(bar.chain), len(buz.chain)))"
   ]
  },
  {
   "cell_type": "markdown",
   "metadata": {},
   "source": [
    "The content of the chain of foo node and buz node at this time is as follows. You can see that the contents are different from the middle."
   ]
  },
  {
   "cell_type": "code",
   "execution_count": 34,
   "metadata": {},
   "outputs": [
    {
     "name": "stdout",
     "output_type": "stream",
     "text": [
      "[ { 'index': 1,\n",
      "    'previous_hash': 1,\n",
      "    'proof': 100,\n",
      "    'timestamp': 1549968320.5750966,\n",
      "    'transactions': []},\n",
      "  { 'index': 2,\n",
      "    'previous_hash': '8788b57301aba5522ac6c464ccb3118f854ea02d94ae79e59c150b9d2f70438a',\n",
      "    'proof': 35293,\n",
      "    'timestamp': 1549968380.794671,\n",
      "    'transactions': [{'amount': 1, 'recipient': 'bar', 'sender': '0'}]},\n",
      "  { 'index': 3,\n",
      "    'previous_hash': '04a510eb7f3a5ae6331acef120ba4f182891f175a8101ffb8a1247f01391eb27',\n",
      "    'proof': 35089,\n",
      "    'timestamp': 1549968538.542543,\n",
      "    'transactions': [ {'amount': 123, 'recipient': 'BBB', 'sender': 'AAA'},\n",
      "                      {'amount': 1, 'recipient': 'foo', 'sender': '0'}]},\n",
      "  { 'index': 4,\n",
      "    'previous_hash': 'f45c47824d82b6ac19334f49173a3dfbec3ded72bcb01f1f8614cb426d9eeb4d',\n",
      "    'proof': 119678,\n",
      "    'timestamp': 1549968538.717537,\n",
      "    'transactions': [ {'amount': 456, 'recipient': 'DDD', 'sender': 'CCC'},\n",
      "                      {'amount': 1, 'recipient': 'foo', 'sender': '0'}]}]\n"
     ]
    }
   ],
   "source": [
    "pp.pprint(foo.chain)"
   ]
  },
  {
   "cell_type": "code",
   "execution_count": 35,
   "metadata": {},
   "outputs": [
    {
     "name": "stdout",
     "output_type": "stream",
     "text": [
      "[ { 'index': 1,\n",
      "    'previous_hash': 1,\n",
      "    'proof': 100,\n",
      "    'timestamp': 1549968320.5750966,\n",
      "    'transactions': []},\n",
      "  { 'index': 2,\n",
      "    'previous_hash': '8788b57301aba5522ac6c464ccb3118f854ea02d94ae79e59c150b9d2f70438a',\n",
      "    'proof': 35293,\n",
      "    'timestamp': 1549968380.794671,\n",
      "    'transactions': [{'amount': 1, 'recipient': 'bar', 'sender': '0'}]},\n",
      "  { 'index': 3,\n",
      "    'previous_hash': '04a510eb7f3a5ae6331acef120ba4f182891f175a8101ffb8a1247f01391eb27',\n",
      "    'proof': 35089,\n",
      "    'timestamp': 1549968538.7675357,\n",
      "    'transactions': [ {'amount': 789, 'recipient': 'FFF', 'sender': 'EEE'},\n",
      "                      {'amount': 1, 'recipient': 'buz', 'sender': '0'}]}]\n"
     ]
    }
   ],
   "source": [
    "pp.pprint(buz.chain)"
   ]
  },
  {
   "cell_type": "markdown",
   "metadata": {},
   "source": [
    "Even if trying to resolve the conflict at the foo node in this state, the content of the chain does not change."
   ]
  },
  {
   "cell_type": "code",
   "execution_count": 36,
   "metadata": {},
   "outputs": [
    {
     "name": "stdout",
     "output_type": "stream",
     "text": [
      "foo: 4, bar: 2, buz: 3\n",
      "node id: buz, len: 3\n",
      "node id: bar, len: 2\n",
      "False\n",
      "foo: 4, bar: 2, buz: 3\n"
     ]
    }
   ],
   "source": [
    "print('foo: %d, bar: %d, buz: %d' %(len(foo.chain), len(bar.chain), len(buz.chain)))\n",
    "print(foo.resolve_conflicts())\n",
    "print('foo: %d, bar: %d, buz: %d' %(len(foo.chain), len(bar.chain), len(buz.chain)))"
   ]
  },
  {
   "cell_type": "markdown",
   "metadata": {},
   "source": [
    "On the other hand, if you resolve the conflict at the buz node, the content of the chain is rewritten."
   ]
  },
  {
   "cell_type": "code",
   "execution_count": 37,
   "metadata": {},
   "outputs": [
    {
     "name": "stdout",
     "output_type": "stream",
     "text": [
      "foo: 4, bar: 2, buz: 3\n",
      "node id: foo, len: 4\n",
      "node id: bar, len: 2\n",
      "Replacing `buz' <- `foo'\n",
      "True\n",
      "foo: 4, bar: 2, buz: 4\n"
     ]
    }
   ],
   "source": [
    "print('foo: %d, bar: %d, buz: %d' %(len(foo.chain), len(bar.chain), len(buz.chain)))\n",
    "print(buz.resolve_conflicts())\n",
    "print('foo: %d, bar: %d, buz: %d' %(len(foo.chain), len(bar.chain), len(buz.chain)))"
   ]
  },
  {
   "cell_type": "markdown",
   "metadata": {},
   "source": [
    "Consequently, the chain of buz nodes is discarded and overwritten with a chain of foo nodes."
   ]
  },
  {
   "cell_type": "code",
   "execution_count": 38,
   "metadata": {},
   "outputs": [
    {
     "name": "stdout",
     "output_type": "stream",
     "text": [
      "[ { 'index': 1,\n",
      "    'previous_hash': 1,\n",
      "    'proof': 100,\n",
      "    'timestamp': 1549968320.5750966,\n",
      "    'transactions': []},\n",
      "  { 'index': 2,\n",
      "    'previous_hash': '8788b57301aba5522ac6c464ccb3118f854ea02d94ae79e59c150b9d2f70438a',\n",
      "    'proof': 35293,\n",
      "    'timestamp': 1549968380.794671,\n",
      "    'transactions': [{'amount': 1, 'recipient': 'bar', 'sender': '0'}]},\n",
      "  { 'index': 3,\n",
      "    'previous_hash': '04a510eb7f3a5ae6331acef120ba4f182891f175a8101ffb8a1247f01391eb27',\n",
      "    'proof': 35089,\n",
      "    'timestamp': 1549968538.542543,\n",
      "    'transactions': [ {'amount': 123, 'recipient': 'BBB', 'sender': 'AAA'},\n",
      "                      {'amount': 1, 'recipient': 'foo', 'sender': '0'}]},\n",
      "  { 'index': 4,\n",
      "    'previous_hash': 'f45c47824d82b6ac19334f49173a3dfbec3ded72bcb01f1f8614cb426d9eeb4d',\n",
      "    'proof': 119678,\n",
      "    'timestamp': 1549968538.717537,\n",
      "    'transactions': [ {'amount': 456, 'recipient': 'DDD', 'sender': 'CCC'},\n",
      "                      {'amount': 1, 'recipient': 'foo', 'sender': '0'}]}]\n"
     ]
    }
   ],
   "source": [
    "pp.pprint(foo.chain)"
   ]
  },
  {
   "cell_type": "code",
   "execution_count": 39,
   "metadata": {},
   "outputs": [
    {
     "name": "stdout",
     "output_type": "stream",
     "text": [
      "[ { 'index': 1,\n",
      "    'previous_hash': 1,\n",
      "    'proof': 100,\n",
      "    'timestamp': 1549968320.5750966,\n",
      "    'transactions': []},\n",
      "  { 'index': 2,\n",
      "    'previous_hash': '8788b57301aba5522ac6c464ccb3118f854ea02d94ae79e59c150b9d2f70438a',\n",
      "    'proof': 35293,\n",
      "    'timestamp': 1549968380.794671,\n",
      "    'transactions': [{'amount': 1, 'recipient': 'bar', 'sender': '0'}]},\n",
      "  { 'index': 3,\n",
      "    'previous_hash': '04a510eb7f3a5ae6331acef120ba4f182891f175a8101ffb8a1247f01391eb27',\n",
      "    'proof': 35089,\n",
      "    'timestamp': 1549968538.542543,\n",
      "    'transactions': [ {'amount': 123, 'recipient': 'BBB', 'sender': 'AAA'},\n",
      "                      {'amount': 1, 'recipient': 'foo', 'sender': '0'}]},\n",
      "  { 'index': 4,\n",
      "    'previous_hash': 'f45c47824d82b6ac19334f49173a3dfbec3ded72bcb01f1f8614cb426d9eeb4d',\n",
      "    'proof': 119678,\n",
      "    'timestamp': 1549968538.717537,\n",
      "    'transactions': [ {'amount': 456, 'recipient': 'DDD', 'sender': 'CCC'},\n",
      "                      {'amount': 1, 'recipient': 'foo', 'sender': '0'}]}]\n"
     ]
    }
   ],
   "source": [
    "pp.pprint(buz.chain)"
   ]
  },
  {
   "cell_type": "markdown",
   "metadata": {
    "collapsed": true
   },
   "source": [
    "# Literature\n",
    "\n",
    "* https://github.com/grantathon/crypto_portfolio_analysis\n",
    "* https://github.com/snaga/blockchain\n"
   ]
  }
 ],
 "metadata": {
  "kernelspec": {
   "display_name": "Python 3",
   "language": "python",
   "name": "python3"
  },
  "language_info": {
   "codemirror_mode": {
    "name": "ipython",
    "version": 3
   },
   "file_extension": ".py",
   "mimetype": "text/x-python",
   "name": "python",
   "nbconvert_exporter": "python",
   "pygments_lexer": "ipython3",
   "version": "3.6.5"
  }
 },
 "nbformat": 4,
 "nbformat_minor": 2
}
